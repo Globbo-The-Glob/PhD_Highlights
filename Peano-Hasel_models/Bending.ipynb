{
 "metadata": {
  "language_info": {
   "codemirror_mode": {
    "name": "ipython",
    "version": 3
   },
   "file_extension": ".py",
   "mimetype": "text/x-python",
   "name": "python",
   "nbconvert_exporter": "python",
   "pygments_lexer": "ipython3",
   "version": 3
  },
  "orig_nbformat": 2
 },
 "nbformat": 4,
 "nbformat_minor": 2,
 "cells": [
  {
   "source": [
    "# Investigations of bending"
   ],
   "cell_type": "markdown",
   "metadata": {}
  },
  {
   "cell_type": "code",
   "execution_count": null,
   "metadata": {},
   "outputs": [],
   "source": [
    "import numpy as np\n",
    "import scipy as spy\n",
    "import scipy.integrate as integrate\n",
    "import scipy.special as special\n",
    "from sympy import *\n",
    "import matplotlib.pyplot as plt\n",
    "from py_functions import getalpha0"
   ]
  },
  {
   "cell_type": "code",
   "execution_count": null,
   "metadata": {},
   "outputs": [],
   "source": [
    "## Model Constants\n",
    "Lp = np.arange(0.00001,0.003,0.0001) # [m] Initial Pouch Length - From original kellaris paper (2018)\n",
    "perm0 = 8.85418782e-12#[m-3kg-1s4A2]\n",
    "permr = 2.2 # for BOPP\n",
    "Eb = 700e6 #[V/m] the breakdown strength of BOPP\n",
    "w = 0.01 #[m] from original kellaris paper\n",
    "t = 18e-6 #[m] Bopp thickness used in initial designs\n",
    "k = 10000 #[Nm-1] Achilles tendon average sourced from Litchwark 2005\n",
    "rho_f = 903 #[kgm-3] Bopp Density TEKRA (2020)\n",
    "rho_o = 920 #[kgm-3] FR3 Dielectric oil Density Cargill (2018)\n",
    "alpf = np.pi/2 #[rad] Assume circular cross section on stroke completion\n",
    "Eper = 0.5 # Percentage of electrode coverage\n",
    "Va = 10e3 # Actuation voltage"
   ]
  },
  {
   "cell_type": "code",
   "execution_count": null,
   "metadata": {},
   "outputs": [],
   "source": [
    "## Swept constants\n",
    "#Va = np.linspace(0,10000,1000) # 0 -> 10kV res: 10V\n",
    "E = Va/(2*t)\n",
    "#Eper = np.linspace(0,1,0.01)\n",
    "\n",
    "#Lambda for force\n",
    "lamb = E**2*perm0*permr*w*t\n",
    "\n",
    "# Electrode length\n",
    "Le = Lp*Eper\n",
    "\n",
    "#optimal fill eqn based on electrode coverage ratio\n",
    "# !!! MIGHT NOT WORK WITH ARRAY !!!\n",
    "alpeqn = ((1-Eper)**2)*(2/np.pi) # Easy to calc constant\n",
    "y = 0.01 # intial guess of angle\n",
    "it = 0.0001 # iteration\n",
    "scale = 1.6/it # how many possible\n",
    "end = int(scale) # int for loop\n",
    "for i in range(0,end): # over scale\n",
    "    \n",
    "    func = (y-sin(y)*cos(y))/(y**2) - alpeqn # Find value of remaining equation with embedded alpha0\n",
    "    \n",
    "    if func >= 0: # root is transition from negative to positive in this case\n",
    "        alp0 = y - it # previous value before sign flip returned       \n",
    "        break #root found, stop\n",
    "    else:\n",
    "        y += it #move to next guess\n",
    "        continue\n",
    "\n",
    "\n",
    "#Height\n",
    "h = Lp*(sin(alp0)/alp0) # Height [m]\n",
    "\n",
    "#Area w/ restraints \n",
    "# !!! MIGHT NOT WORK WITH ARRAY !!!\n",
    "A = (Lp - Le)**2 /np.pi # Area [m2]\n",
    "\n",
    "#Blocking force\n",
    "Fb = (lamb)*(cos(alp0)/(1-cos(alp0)))\n",
    "\n",
    "Lpf = Lp - Le # Fully Deformed pouch length \n",
    "\n",
    "xmax = h - (Lpf*(sin(alpf)/alpf)) - Le # max displacement\n",
    "\n",
    "alp = np.linspace(alp0,alpf,100) #sweep alpha\n",
    "\n",
    "# Blocks of lp(alp) eqn sweep\n",
    "lpnum = 2*A*np.square(alp)\n",
    "lpdom = (alp - np.sin(alp)*np.cos(alp))\n",
    "lp2 = lpnum/lpdom\n",
    "lp = lp2**0.5\n",
    "lp[0] = Lp # Removes unphysical discretisation error\n",
    "\n",
    "# electrode length sweep\n",
    "le = Lp - lp \n",
    "\n",
    "# displacement sweep\n",
    "lpmp = np.sin(alp)/alp # lp multiplier in x\n",
    "lplpmp = lp*lpmp\n",
    "X = h - lplpmp - le\n",
    "\n",
    "# Load of spring\n",
    "P = k*X\n",
    "\n",
    "# Force output of actuator\n",
    "F = lamb*(np.cos(alp)/(1-np.cos(alp)))"
   ]
  },
  {
   "cell_type": "code",
   "execution_count": null,
   "metadata": {},
   "outputs": [],
   "source": [
    "# Loop deletes anyhting after spring outforces actuator\n",
    "for i in range(len(X)):\n",
    "    if F[i] <= P[i]:\n",
    "        cut = i\n",
    "        for j in range(i+1,len(X)):\n",
    "            F[j] = float(\"NaN\")\n",
    "            P[j] = float(\"NaN\")\n",
    "    else:\n",
    "        continue"
   ]
  },
  {
   "cell_type": "code",
   "execution_count": null,
   "metadata": {},
   "outputs": [],
   "source": [
    "x = X[0:cut] # Physically relevant values for integration \n",
    "print(x)\n",
    "p = P[0:cut]\n",
    "print(p)\n",
    "f = F[0:cut]\n",
    "print(f)\n",
    "# Energy in spring\n",
    "Usee = spy.integrate.trapezoid(p,x)\n",
    "print(Usee)\n",
    "# Energy output of actuator\n",
    "Uact = spy.integrate.trapezoid(f,x)"
   ]
  },
  {
   "cell_type": "code",
   "execution_count": null,
   "metadata": {},
   "outputs": [],
   "source": [
    "## Bending\n",
    "# Define new constants\n",
    "# https://www.m-petfilm.de/en/service/comparative-data-for-plastic-films/ for youngs mods\n",
    "\n",
    "Ymt = 4.5e9 # youngs modulus in machined direction N/m\n",
    "Ymm = 2.5e9 # yong mod in trans direction N/m \n",
    "nu = 0.33 # Poissons ratio\n",
    "def BendingForce(lp,t,w,nu,Ymm,alp,lamb,A) \n",
    "    D = ((t**3)*w*Ymm)/(12*(1-nu)**2) # Bending stiffness\n",
    "    k = (2*alp)/lp # Curvature of membrane\n",
    "\n",
    "    Ub = D*k**2*lp # Bending Energy\n",
    "\n",
    "    # Force w/ Bending\n",
    "    Fwb = lamb*(np.cos(alp)/(1-np.cos(alp))) + 2*D*(alp-np.sin(alp)*np.cos(alp)/A) * (np.cos(alp)/(1-np.cos(alp))) * (1+(2*alp*np.tan(alp)**2)/(alp-np.tan(alp)))\n",
    "    return Fwb, Ub"
   ]
  }
 ]
}