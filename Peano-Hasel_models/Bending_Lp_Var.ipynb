{
 "cells": [
  {
   "cell_type": "markdown",
   "metadata": {},
   "source": [
    "# Investigations of PVDF-HFP (Polyvinylidene-Hexfluorpropylene)"
   ]
  },
  {
   "cell_type": "code",
   "execution_count": 1,
   "metadata": {},
   "outputs": [],
   "source": [
    "import numpy as np\n",
    "import scipy as spy\n",
    "import scipy.integrate as integrate\n",
    "import scipy.special as special\n",
    "#from sympy import *\n",
    "import matplotlib.pyplot as plt\n",
    "#from py_functions import getalpha0"
   ]
  },
  {
   "cell_type": "code",
   "execution_count": 2,
   "metadata": {},
   "outputs": [],
   "source": [
    "## Bending\n",
    "# Define new constants\n",
    "# https://www.m-petfilm.de/en/service/comparative-data-for-plastic-films/ for youngs mods\n",
    "\n",
    "Ymt = 4.5e9 # youngs modulus in machined direction N/m\n",
    "Ymm = 1e9 # yong mod in trans direction N/m \n",
    "nu = 0.33 # Poissons ratio\n",
    "def BendingForce(lp,t,w,nu,Ymm,alp,lamb,A): \n",
    "    D = ((t**3)*w*Ymt)/(12*(1-nu)**2) # Bending stiffness\n",
    "    k = (2*alp)/lp # Curvature of membrane\n",
    "\n",
    "    Ub = D*k**2*lp # Bending Energy\n",
    "\n",
    "    # Force w/ Bending\n",
    "    Fwb = lamb*(np.cos(alp)/(1-np.cos(alp))) + 2*D*(alp-np.sin(alp)*np.cos(alp)/A) * (np.cos(alp)/(1-np.cos(alp))) * (1+(2*alp*np.tan(alp)**2)/(alp-np.tan(alp)))\n",
    "    return Fwb, Ub"
   ]
  },
  {
   "cell_type": "code",
   "execution_count": 3,
   "metadata": {},
   "outputs": [],
   "source": [
    "## Model Constants\n",
    "resolution = 10000\n",
    "Lpmax = 0.02 #[m]\n",
    "step = Lpmax/resolution\n",
    "Lp = np.arange(0,Lpmax,step) # [m] Initial Pouch Length - From original kellaris paper (2018)\n",
    "perm0 = 8.85418782e-12#[m-3kg-1s4A2]\n",
    "permr = 2.2 # for bopp.... 8.3 for PVDF-HFP\n",
    "Eb = 700e6 #[V/m] the breakdown strength of BOPP\n",
    "w = 0.12 #[m] from original kellaris paper\n",
    "t = 18e-6 #[m] Bopp thickness used in initial designs\n",
    "k = 135e6 #[Nm-1] Achilles tendon average sourced from Litchwark 2005\n",
    "rho_f = 903 #[kgm-3] Bopp Density TEKRA (2020)\n",
    "rho_o = 920 #[kgm-3] FR3 Dielectric oil Density Cargill (2018)\n",
    "alpf = np.pi/2 #[rad] Assume circular cross section on stroke completion\n",
    "Eper = 0.6 # Percentage of electrode coverage\n",
    "Va = 10e3 # Actuation voltage\n",
    "jj = 1 # Array Scaling"
   ]
  },
  {
   "cell_type": "code",
   "execution_count": 4,
   "metadata": {},
   "outputs": [
    {
     "name": "stderr",
     "output_type": "stream",
     "text": [
      "C:\\Users\\mbgm4hm7\\AppData\\Local\\Temp/ipykernel_13876/2859669240.py:75: RuntimeWarning: divide by zero encountered in true_divide\n",
      "  ku[i,:] = (2*alp)/lp[i,:] # Curvature of membrane\n",
      "C:\\Users\\mbgm4hm7\\AppData\\Local\\Temp/ipykernel_13876/2859669240.py:77: RuntimeWarning: invalid value encountered in multiply\n",
      "  Ub[i,:] = D*ku[i,:]**2*lp[i,:] # Bending Energy\n",
      "C:\\Users\\mbgm4hm7\\AppData\\Local\\Temp/ipykernel_13876/2859669240.py:80: RuntimeWarning: divide by zero encountered in true_divide\n",
      "  F[i,:] = jj*(lamb*(np.cos(alp)/(1-np.cos(alp))) + 2*D*((alp-np.sin(alp)*np.cos(alp))/A[i]) * (np.cos(alp)/(1-np.cos(alp))) * (1+(2*alp*np.tan(alp)**2)/(alp-np.tan(alp))))\n"
     ]
    }
   ],
   "source": [
    "## Swept constants\n",
    "#Va = np.linspace(0,10000,1000) # 0 -> 10kV res: 10V\n",
    "E = Va/(2*t)\n",
    "#Eper = np.linspace(0,1,0.01)\n",
    "\n",
    "#Lambda for force\n",
    "lamb = E**2*perm0*permr*w*t\n",
    "\n",
    "# Electrode length\n",
    "Le = Lp*Eper\n",
    "\n",
    "#optimal fill eqn based on electrode coverage ratio\n",
    "# !!! MIGHT NOT WORK WITH ARRAY !!!\n",
    "alpeqn = ((1-Eper)**2)*(2/np.pi) # Easy to calc constant\n",
    "y = 0.01 # intial guess of angle\n",
    "it = 0.0001 # iteration\n",
    "scale = 1.6/it # how many possible\n",
    "end = int(scale) # int for loop\n",
    "for i in range(0,end): # over scale\n",
    "    \n",
    "    func = (y-np.sin(y)*np.cos(y))/(y**2) - alpeqn # Find value of remaining equation with embedded alpha0\n",
    "    \n",
    "    if func >= 0: # root is transition from negative to positive in this case\n",
    "        alp0 = y - it # previous value before sign flip returned       \n",
    "        break #root found, stop\n",
    "    else:\n",
    "        y += it #move to next guess\n",
    "        continue\n",
    "\n",
    "\n",
    "#Height\n",
    "h = Lp*(np.sin(alp0)/alp0) # Height [m]\n",
    "\n",
    "#Area w/ restraints \n",
    "# !!! MIGHT NOT WORK WITH ARRAY !!!\n",
    "A = (Lp - Le)**2 /np.pi # Area [m2]\n",
    "\n",
    "#Blocking force\n",
    "Fb = (lamb)*(np.cos(alp0)/(1-np.cos(alp0)))\n",
    "\n",
    "Lpf = Lp - Le # Fully Deformed pouch length \n",
    "\n",
    "xmax = h - (Lpf*(np.sin(alpf)/alpf)) - Le # max displacement\n",
    "\n",
    "alp = np.linspace(alp0,alpf,resolution) #sweep alpha\n",
    "\n",
    "# intialise value matrices i = Lp variance, j = alp variance\n",
    "lp = np.zeros((resolution,resolution))\n",
    "le = np.zeros((resolution,resolution))\n",
    "X = np.zeros((resolution,resolution))\n",
    "P = np.zeros((resolution,resolution))\n",
    "F = np.zeros((resolution,resolution))\n",
    "Ub = np.zeros((resolution,resolution))\n",
    "ku = np.zeros((resolution,resolution))\n",
    "# Blocks of lp(alp) eqn sweep for each Lp\n",
    "for i in range(len(A)):\n",
    "    lpnum = 2*A[i]*np.square(alp)\n",
    "    lpdom = (alp - np.sin(alp)*np.cos(alp))\n",
    "    lp2 = lpnum/lpdom\n",
    "    lp[i,:] = lp2**0.5\n",
    "    lp[i,0] = Lp[i] # Removes unphysical discretisation error\n",
    "\n",
    "    # electrode length sweep\n",
    "    le[i,:] = Lp[i] - lp[i,:]\n",
    "\n",
    "    # displacement sweep\n",
    "    lpmp = np.sin(alp)/alp # lp multiplier in x\n",
    "    lplpmp = lp[i,:]*lpmp\n",
    "    X[i,:] = h[i] - lplpmp - le[i,:]\n",
    "\n",
    "    # Load of spring\n",
    "    P[i,:] = k*X[i,:]\n",
    "\n",
    "    D = ((t**3)*w*Ymm)/(12*(1-nu**2)) # Bending stiffness\n",
    "    ku[i,:] = (2*alp)/lp[i,:] # Curvature of membrane\n",
    "\n",
    "    Ub[i,:] = D*ku[i,:]**2*lp[i,:] # Bending Energy\n",
    "\n",
    "    # Force w/ Bending\n",
    "    F[i,:] = jj*(lamb*(np.cos(alp)/(1-np.cos(alp))) + 2*D*((alp-np.sin(alp)*np.cos(alp))/A[i]) * (np.cos(alp)/(1-np.cos(alp))) * (1+(2*alp*np.tan(alp)**2)/(alp-np.tan(alp))))\n",
    "    # Force output of actuator\n",
    "    #F[i,:] = BendingForce(lp[i,:],t,w,nu,Ymm,alp,lamb,A[i])"
   ]
  },
  {
   "cell_type": "code",
   "execution_count": 5,
   "metadata": {},
   "outputs": [],
   "source": [
    "cut = np.zeros(resolution)\n",
    "# Loop deletes anyhting after spring outforces actuator\n",
    "for k in range(resolution):\n",
    "    for i in range(resolution):\n",
    "        if F[k,i] <= P[k,i]:\n",
    "            cut[k] = i\n",
    "            for j in range(i+1,resolution):\n",
    "                F[k,j] = float(\"NaN\")\n",
    "                P[k,j] = float(\"NaN\")\n",
    "        else:\n",
    "            continue"
   ]
  },
  {
   "cell_type": "code",
   "execution_count": 6,
   "metadata": {
    "tags": []
   },
   "outputs": [],
   "source": [
    "# Energies of actuator and SEE\n",
    "\n",
    "x = np.zeros((resolution,resolution))\n",
    "p = np.zeros((resolution,resolution))\n",
    "f = np.zeros((resolution,resolution))\n",
    "Usee = np.zeros(resolution)\n",
    "Uact = np.zeros(resolution)\n",
    "\n",
    "cut = cut.astype(int)\n",
    "for i in range(resolution):\n",
    "    \n",
    "    end = cut[i]\n",
    "    \n",
    "    x = X[i,0:end] # Physically relevant values for integration \n",
    "    p = P[i,0:end]\n",
    "    f = F[i,0:end]\n",
    "    \n",
    "    # Energy in spring\n",
    "    Usee[i] = spy.integrate.trapezoid(p,x)\n",
    "    \n",
    "    # Energy output of actuator\n",
    "    Uact[i] = spy.integrate.trapezoid(f,x)"
   ]
  },
  {
   "cell_type": "code",
   "execution_count": 7,
   "metadata": {},
   "outputs": [],
   "source": [
    "# Actuator Masses \n",
    "\n",
    "mass = np.zeros(resolution)\n",
    "for i in range(resolution):\n",
    "    mass[i] = jj*(Lp[i]*t*w*2*rho_f + A[i]*w*rho_o) # film + oil mass"
   ]
  },
  {
   "cell_type": "code",
   "execution_count": 8,
   "metadata": {},
   "outputs": [],
   "source": [
    "# Bounding box of actuator\n",
    "xb = (jj+1) * np.sqrt(A/np.pi)\n",
    "yb = w \n",
    "zb = h \n",
    "Vol = xb*yb*zb"
   ]
  },
  {
   "cell_type": "code",
   "execution_count": null,
   "metadata": {},
   "outputs": [],
   "source": []
  },
  {
   "cell_type": "code",
   "execution_count": 9,
   "metadata": {},
   "outputs": [
    {
     "name": "stderr",
     "output_type": "stream",
     "text": [
      "C:\\Users\\mbgm4hm7\\AppData\\Local\\Temp/ipykernel_13876/2785228507.py:3: RuntimeWarning: invalid value encountered in true_divide\n",
      "  SUact = Uact/mass\n",
      "C:\\Users\\mbgm4hm7\\AppData\\Local\\Temp/ipykernel_13876/2785228507.py:4: RuntimeWarning: invalid value encountered in true_divide\n",
      "  SUsee = Usee/mass\n"
     ]
    }
   ],
   "source": [
    "# Specific Energies \n",
    "\n",
    "SUact = Uact/mass \n",
    "SUsee = Usee/mass"
   ]
  },
  {
   "cell_type": "code",
   "execution_count": 10,
   "metadata": {},
   "outputs": [
    {
     "name": "stderr",
     "output_type": "stream",
     "text": [
      "C:\\Users\\mbgm4hm7\\AppData\\Local\\Temp/ipykernel_13876/413016973.py:1: RuntimeWarning: invalid value encountered in true_divide\n",
      "  Eff = Usee/Uact\n"
     ]
    }
   ],
   "source": [
    "Eff = Usee/Uact "
   ]
  },
  {
   "cell_type": "code",
   "execution_count": 11,
   "metadata": {},
   "outputs": [
    {
     "data": {
      "text/plain": [
       "Text(0.5, 1.0, 'Specific Energy, (u) w/ Variable Pouch Length (Lp)')"
      ]
     },
     "execution_count": 11,
     "metadata": {},
     "output_type": "execute_result"
    },
    {
     "data": {
      "image/png": "[encoded data removed]",
      "text/plain": [
       "<Figure size 432x288 with 1 Axes>"
      ]
     },
     "metadata": {
      "needs_background": "light"
     },
     "output_type": "display_data"
    }
   ],
   "source": [
    "fig, ax = plt.subplots() \n",
    "# ax.plot(Lp,Usee)\n",
    "ax.plot(Lp,SUact, color='#9F19A8', label=\"Actuator\",)\n",
    "ax.plot(Lp,SUsee, color='#F56E3D', label=\"SEE\")\n",
    "plt.xlabel('Lp [m]')\n",
    "plt.ylabel('u [Jkg-1]')\n",
    "plt.title('Specific Energy, (u) w/ Variable Pouch Length (Lp)')\n",
    "leg = plt.legend(loc = 'upper right')"
   ]
  },
  {
   "cell_type": "code",
   "execution_count": 12,
   "metadata": {},
   "outputs": [
    {
     "data": {
      "text/plain": [
       "[<matplotlib.lines.Line2D at 0x22c16a2f250>]"
      ]
     },
     "execution_count": 12,
     "metadata": {},
     "output_type": "execute_result"
    },
    {
     "data": {
      "image/png": "[encoded data removed]",
      "text/plain": [
       "<Figure size 432x288 with 1 Axes>"
      ]
     },
     "metadata": {
      "needs_background": "light"
     },
     "output_type": "display_data"
    }
   ],
   "source": [
    "fig, ax = plt.subplots()\n",
    "ax.plot(Lp,Eff)"
   ]
  },
  {
   "cell_type": "code",
   "execution_count": 13,
   "metadata": {
    "tags": []
   },
   "outputs": [
    {
     "name": "stdout",
     "output_type": "stream",
     "text": [
      "0\n"
     ]
    }
   ],
   "source": [
    "index = np.argmax(SUact)\n",
    "print(index)\n",
    "\n"
   ]
  },
  {
   "cell_type": "code",
   "execution_count": null,
   "metadata": {},
   "outputs": [],
   "source": []
  }
 ],
 "metadata": {
  "interpreter": {
   "hash": "41cb616b1675252b58a8bb1899d4a3551601a636b60fd91a51d2945143988e5b"
  },
  "kernelspec": {
   "display_name": "Python 3.8.9 64-bit",
   "name": "python3"
  },
  "language_info": {
   "codemirror_mode": {
    "name": "ipython",
    "version": 3
   },
   "file_extension": ".py",
   "mimetype": "text/x-python",
   "name": "python",
   "nbconvert_exporter": "python",
   "pygments_lexer": "ipython3",
   "version": "3.8.9"
  },
  "metadata": {
   "interpreter": {
    "hash": "41cb616b1675252b58a8bb1899d4a3551601a636b60fd91a51d2945143988e5b"
   }
  },
  "orig_nbformat": 2
 },
 "nbformat": 4,
 "nbformat_minor": 2
}
