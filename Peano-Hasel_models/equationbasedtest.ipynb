{
 "cells": [
  {
   "cell_type": "code",
   "execution_count": 118,
   "metadata": {},
   "outputs": [],
   "source": [
    "import numpy as np\n",
    "import scipy as spy\n",
    "import scipy.integrate as integrate\n",
    "import scipy.special as special\n",
    "from sympy import *\n",
    "import matplotlib.pyplot as plt\n",
    "# from py_functions import getalpha0"
   ]
  },
  {
   "cell_type": "code",
   "execution_count": 119,
   "metadata": {
    "tags": []
   },
   "outputs": [],
   "source": [
    "## Model Constants\n",
    "Lp = 0.02 # [m] Initial Pouch Length - From original kellaris paper (2018)\n",
    "perm0 = 8.85418782e-12#[m-3kg-1s4A2]\n",
    "permr = 2.2 # for BOPP\n",
    "Eb = 700e6 #[V/m] the breakdown strength of BOPP\n",
    "w = 0.12 #[m] from original kellaris paper\n",
    "t = 21e-6 #[m] Bopp thickness used in initial designs\n",
    "#k = 1000000 #[Nm-1] Achilles tendon average sourced from Litchwark 2005\n",
    "rho_f = 903 #[kgm-3] Bopp Density TEKRA (2020)\n",
    "rho_o = 920 #[kgm-3] FR3 Dielectric oil Density Cargill (2018)\n",
    "alpf = np.pi/2 #[rad] Assume circular cross section on stroke completion\n",
    "Eper = 0.6 # Percentage of electrode coverage\n",
    "Va = 10000 # Actuation voltage\n",
    "N = 1"
   ]
  },
  {
   "cell_type": "code",
   "execution_count": 120,
   "metadata": {},
   "outputs": [],
   "source": [
    "## Swept constants\n",
    "#Va = np.linspace(0,10000,1000) # 0 -> 10kV res: 10V\n",
    "E = Va/(2*t)\n",
    "#Eper = np.linspace(0,1,0.01)\n",
    "\n",
    "## model start\n",
    "#Lambda for force\n",
    "lamb = Va**2*perm0*permr*w/(4*t)\n",
    "\n",
    "# Electrode length\n",
    "Le = Lp*Eper\n",
    "\n",
    "#optimal fill eqn based on electrode coverage ratio\n",
    "# !!! MIGHT NOT WORK WITH ARRAY !!!\n",
    "alpeqn = ((1-Eper)**2)*(2/np.pi) # Easy to calc constant\n",
    "y = 0.01 # intial guess of angle\n",
    "it = 0.0001 # iteration\n",
    "scale = 1.6/it # how many possible\n",
    "end = int(scale) # int for loop\n",
    "for i in range(0,end): # over scale\n",
    "    \n",
    "    func = (y-sin(y)*cos(y))/(y**2) - alpeqn # Find value of remaining equation with embedded alpha0\n",
    "    \n",
    "    if func >= 0: # root is transition from negative to positive in this case\n",
    "        alp0 = y - it # previous value before sign flip returned       \n",
    "        break #root found, stop\n",
    "    else:\n",
    "        y += it #move to next guess\n",
    "        continue\n",
    "\n",
    "\n",
    "#Height\n",
    "h = Lp*(sin(alp0)/alp0) # Height [m]\n",
    "\n",
    "#Area w/ restraints \n",
    "# !!! MIGHT NOT WORK WITH ARRAY !!!\n",
    "A = (Lp - Le)**2 /np.pi # Area [m2]\n",
    "\n",
    "#Blocking force\n",
    "Fb = (lamb)*(cos(alp0)/(1-cos(alp0)))\n",
    "\n",
    "Lpf = Lp - Le # Fully Deformed pouch length \n",
    "\n",
    "xmax = h - (Lpf*(sin(alpf)/alpf)) - Le # max displacement\n",
    "\n",
    "alp = np.linspace(alp0,alpf,10000) #sweep alpha and SET RESOLUTION\n",
    "\n",
    "# Blocks of lp(alp) eqn sweep\n",
    "lpnum = 2*A*np.square(alp)\n",
    "lpdom = (alp - np.sin(alp)*np.cos(alp))\n",
    "lp2 = lpnum/lpdom\n",
    "lp = lp2**0.5\n",
    "lp[0] = Lp # Removes unphysical discretisation error\n",
    "\n",
    "# electrode length sweep\n",
    "le = Lp - lp \n",
    "\n",
    "# displacement sweep\n",
    "lpmp = np.sin(alp)/alp # lp multiplier in x\n",
    "lplpmp = lp*lpmp\n",
    "X = h - lplpmp - le\n",
    "\n",
    "# Load of spring\n",
    "#P = k*X\n",
    "\n",
    "# Force output of actuator\n",
    "F = lamb*(np.cos(alp)/(1-np.cos(alp)))*N"
   ]
  },
  {
   "cell_type": "code",
   "execution_count": 121,
   "metadata": {},
   "outputs": [
    {
     "data": {
      "text/plain": [
       "[<matplotlib.lines.Line2D at 0x27c51c8a490>]"
      ]
     },
     "execution_count": 121,
     "metadata": {},
     "output_type": "execute_result"
    },
    {
     "data": {
      "image/png": "[encoded data removed]",
      "text/plain": [
       "<Figure size 432x288 with 1 Axes>"
      ]
     },
     "metadata": {
      "needs_background": "light"
     },
     "output_type": "display_data"
    }
   ],
   "source": [
    "fig, ax = plt.subplots() \n",
    "ax.plot(alp/1.6,F)\n",
    "#ax.plot(alp,P)"
   ]
  },
  {
   "cell_type": "code",
   "execution_count": 122,
   "metadata": {
    "tags": []
   },
   "outputs": [],
   "source": [
    "# x = X[0:i] # Physically relevant values for integration \n",
    "# p = P[0:i]\n",
    "# f = F[0:i]\n",
    "# # Energy in spring\n",
    "# Usee = spy.integrate.trapezoid(p,x)\n",
    "# print(Usee)\n",
    "# # Energy output of actuator\n",
    "# Uact = spy.integrate.trapezoid(f,x)"
   ]
  },
  {
   "cell_type": "code",
   "execution_count": 123,
   "metadata": {},
   "outputs": [],
   "source": [
    "# Array scaling\n",
    "# n = 1 # Numbver of fibres\n",
    "# F = F*n # Scale force in array"
   ]
  },
  {
   "cell_type": "code",
   "execution_count": 124,
   "metadata": {},
   "outputs": [
    {
     "data": {
      "image/png": "[encoded data removed]",
      "text/plain": [
       "<Figure size 432x288 with 1 Axes>"
      ]
     },
     "metadata": {
      "needs_background": "light"
     },
     "output_type": "display_data"
    }
   ],
   "source": [
    "for i in range(len(F)):\n",
    "    if F[i] <= P[i]:\n",
    "        y2 = F[i]\n",
    "        break\n",
    "    else:\n",
    "        continue\n",
    "NF=F/lamb\n",
    "NP=P/lamb\n",
    "strain = X/h\n",
    "fig, ax = plt.subplots() \n",
    "ax.plot(strain,NF, color='#9F19A8', label='Actuator')\n",
    "plt.xlabel(r\"$\\epsilon [\\%]$\")\n",
    "plt.ylabel(r\"$F\\cdot\\frac{4t}{w\\epsilon_0\\epsilon_r V^2}$\"r\"$[-]$\")\n",
    "plt.title(r\"Normalised Force \"r\"$F\\cdot\\frac{4t}{w\\epsilon_0\\epsilon_r V^2}$\" r\" output of actuator w/ Strain \"r\"$\\epsilon$\")\n",
    "leg = plt.legend(loc = 'upper right')\n",
    "#ax.plot(strain,NP)\n",
    "\n",
    "\n"
   ]
  },
  {
   "cell_type": "code",
   "execution_count": 125,
   "metadata": {},
   "outputs": [
    {
     "name": "stdout",
     "output_type": "stream",
     "text": [
      "8.60738459838480e-5\n"
     ]
    }
   ],
   "source": [
    "for i in range(len(F)):\n",
    "    if F[i] <= P[i]:\n",
    "        cut = i\n",
    "        print(X[i])\n",
    "        break\n",
    "    else:\n",
    "        continue"
   ]
  },
  {
   "cell_type": "code",
   "execution_count": null,
   "metadata": {},
   "outputs": [],
   "source": [
    "\n",
    "\n",
    "   \n"
   ]
  },
  {
   "cell_type": "code",
   "execution_count": 126,
   "metadata": {},
   "outputs": [],
   "source": [
    "for i in range(len(X)):\n",
    "        if F[i] <= P[i]:\n",
    "            cut = i\n",
    "            for j in range(i+1,len(X)):\n",
    "                F[j] = float(\"NaN\")\n",
    "                P[j] = float(\"NaN\")\n",
    "        else:\n",
    "            continue\n"
   ]
  },
  {
   "cell_type": "code",
   "execution_count": 127,
   "metadata": {
    "tags": []
   },
   "outputs": [],
   "source": [
    "x = X[0:cut] # Physically relevant values for integration \n",
    "\n",
    "p = P[0:cut]\n",
    "\n",
    "f = F[0:cut]\n",
    "\n",
    "# Energy in spring\n",
    "Usee = spy.integrate.trapezoid(p,x)\n",
    "\n",
    "# Energy output of actuator\n",
    "Uact = spy.integrate.trapezoid(f,x)"
   ]
  },
  {
   "cell_type": "code",
   "execution_count": 128,
   "metadata": {},
   "outputs": [
    {
     "data": {
      "image/png": "[encoded data removed]",
      "text/plain": [
       "<Figure size 432x288 with 1 Axes>"
      ]
     },
     "metadata": {
      "needs_background": "light"
     },
     "output_type": "display_data"
    }
   ],
   "source": [
    "strain = X/h*100\n",
    "NF=F/lamb\n",
    "NP=P/lamb\n",
    "fig, ax = plt.subplots()\n",
    "ax.scatter(strain[cut-1],NP[cut-1],color='red',label='block point') \n",
    "ax.plot(strain,NF, color='#9F19A8', label='Actuator')\n",
    "ax.plot(strain,NP,color='#F56E3D', label='SEE')\n",
    "# plt.annotate(\"Block Point\", (strain[cut],P[cut]), (strain[cut]-0.3,P[cut]+2))\n",
    "plt.xlabel(r\"$\\epsilon [\\%]$\")\n",
    "plt.ylabel(r\"Normalised Load\"r\"$[-]$\")\n",
    "plt.title(r\"Normalised Load output of actuator and SEE w/ Strain (Blocked)\")\n",
    "leg = plt.legend(loc = 'upper right')\n",
    "\n"
   ]
  },
  {
   "cell_type": "code",
   "execution_count": 129,
   "metadata": {},
   "outputs": [
    {
     "name": "stdout",
     "output_type": "stream",
     "text": [
      "0.308661918773790\n",
      "0.00369232678070710\n",
      "0.0119623657993687\n"
     ]
    }
   ],
   "source": [
    "SEEeff = Usee/Uact\n",
    "print(SEEeff)\n",
    "print(Usee)\n",
    "print(Uact)"
   ]
  },
  {
   "cell_type": "code",
   "execution_count": 130,
   "metadata": {},
   "outputs": [],
   "source": [
    "## Bending\n",
    "# Define new constants\n",
    "# https://www.m-petfilm.de/en/service/comparative-data-for-plastic-films/ for youngs mods\n",
    "\n",
    "Ymt = 4.5e9 # youngs modulus in machined direction N/m\n",
    "Ymm = 2.5e9 # yong mod in trans direction N/m \n",
    "nu = 0.33 # Poissons ratio\n",
    "\n",
    "D = ((t**3)*w*Ymm)/(12*(1-nu)**2) # Bending stiffness\n",
    "k = (2*alp)/lp # Curvature of membrane\n",
    "\n",
    "Ub = D*k**2*lp # Bending Energy\n",
    "\n",
    "# Force w/ Bending\n",
    "Fwb = lamb*(np.cos(alp)/(1-np.cos(alp))) + 2*D*(alp-np.sin(alp)*np.cos(alp)/A) * (np.cos(alp)/(1-np.cos(alp))) * (1+(2*alp*np.tan(alp)**2)/(alp-np.tan(alp)))\n",
    "\n",
    "\n"
   ]
  },
  {
   "cell_type": "code",
   "execution_count": 131,
   "metadata": {},
   "outputs": [
    {
     "data": {
      "text/plain": [
       "[<matplotlib.lines.Line2D at 0x27c4ff1de20>]"
      ]
     },
     "execution_count": 131,
     "metadata": {},
     "output_type": "execute_result"
    },
    {
     "data": {
      "image/png": "[encoded data removed]",
      "text/plain": [
       "<Figure size 432x288 with 1 Axes>"
      ]
     },
     "metadata": {
      "needs_background": "light"
     },
     "output_type": "display_data"
    }
   ],
   "source": [
    "fig, ax = plt.subplots() \n",
    "ax.plot(X,Fwb)\n",
    "ax.plot(X,P)"
   ]
  }
 ],
 "metadata": {
  "interpreter": {
   "hash": "41cb616b1675252b58a8bb1899d4a3551601a636b60fd91a51d2945143988e5b"
  },
  "kernelspec": {
   "display_name": "Python 3.8.9 64-bit",
   "name": "python3"
  },
  "language_info": {
   "codemirror_mode": {
    "name": "ipython",
    "version": 3
   },
   "file_extension": ".py",
   "mimetype": "text/x-python",
   "name": "python",
   "nbconvert_exporter": "python",
   "pygments_lexer": "ipython3",
   "version": "3.8.9"
  },
  "metadata": {
   "interpreter": {
    "hash": "41cb616b1675252b58a8bb1899d4a3551601a636b60fd91a51d2945143988e5b"
   }
  },
  "orig_nbformat": 2
 },
 "nbformat": 4,
 "nbformat_minor": 2
}
