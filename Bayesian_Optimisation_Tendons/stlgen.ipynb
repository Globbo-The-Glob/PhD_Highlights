{
 "cells": [
  {
   "cell_type": "code",
   "execution_count": 11,
   "metadata": {},
   "outputs": [],
   "source": [
    "import numpy as np\n",
    "from stl import mesh\n"
   ]
  },
  {
   "cell_type": "code",
   "execution_count": 12,
   "metadata": {},
   "outputs": [
    {
     "name": "stdout",
     "output_type": "stream",
     "text": [
      "1\n",
      "1B.stl\n",
      "2\n",
      "2B.stl\n",
      "3\n",
      "3B.stl\n",
      "4\n",
      "4B.stl\n",
      "5\n",
      "5B.stl\n",
      "6\n",
      "6B.stl\n",
      "7\n",
      "7B.stl\n",
      "8\n",
      "8B.stl\n",
      "9\n",
      "9B.stl\n",
      "10\n",
      "10B.stl\n"
     ]
    }
   ],
   "source": [
    "\n",
    "\n",
    "## There is one block for each material\n",
    "## These are unionised by comsol and materials assigned\n",
    "## Each block will consist of 6 faces, defined by 8 coordinates \n",
    "## 12 triangles per block, 2 per face\n",
    "## ACCW is the normal direction \n",
    "\n",
    "\n",
    "# For each block \n",
    "\n",
    "r1 = 0.002\n",
    "r2 = 0.09\n",
    "t1 = 0.001\n",
    "t2 = 0.0003\n",
    "\n",
    "X = np.linspace(0.01,0.1,11)\n",
    "x = X*10\n",
    "r = 0.01*(1-x)**3 + r1*3*x*(1-x)**2 + r2*3*x**2*(1-x) + 0.01*x**3\n",
    "t = 0.0025*(1-x)**3 + t1*3*x*(1-x)**2 + t2*3*x**2*(1-x) + 0.0025*x**3\n",
    "\n",
    "\n",
    "for ii in range (0,10):\n",
    "    \n",
    "    # Define the 8 vertices of the Block\n",
    "    vertices = np.array([\\\n",
    "        [-r[ii+1], -t[ii+1], 0.01+ii*0.01],\n",
    "        [+r[ii+1], -t[ii+1], 0.01+ii*0.01],\n",
    "        [+r[ii+1], +t[ii+1], 0.01+ii*0.01],\n",
    "        [-r[ii+1], +t[ii+1], 0.01+ii*0.01],\n",
    "        [-r[ii], -t[ii], 0+ii*0.01],\n",
    "        [+r[ii], -t[ii], 0+ii*0.01],\n",
    "        [+r[ii], +t[ii], 0+ii*0.01],\n",
    "        [-r[ii], +t[ii], 0+ii*0.01]])\n",
    "    # Define the 12 triangles composing the cube\n",
    "    faces = np.array([\\\n",
    "        [0,3,1],\n",
    "        [1,3,2],\n",
    "        [0,4,7],\n",
    "        [0,7,3],\n",
    "        [4,5,6],\n",
    "        [4,6,7],\n",
    "        [5,1,2],\n",
    "        [5,2,6],\n",
    "        [2,3,6],\n",
    "        [3,7,6],\n",
    "        [0,1,5],\n",
    "        [0,5,4]])\n",
    "\n",
    "    # Create the mesh\n",
    "    cube = mesh.Mesh(np.zeros(faces.shape[0], dtype=mesh.Mesh.dtype))\n",
    "    for i, f in enumerate(faces):\n",
    "        for j in range(3):\n",
    "            cube.vectors[i][j] = vertices[f[j],:]\n",
    "\n",
    "    # Write the mesh to file \"cube.stl\"\n",
    "    # File name is based on which block it\n",
    "    filename = str(ii+1) + \"B.stl\"\n",
    "    print(ii+1)\n",
    "    print(filename)\n",
    "    cube.save(filename)\n",
    "        \n",
    "\n"
   ]
  },
  {
   "cell_type": "code",
   "execution_count": null,
   "metadata": {},
   "outputs": [],
   "source": []
  }
 ],
 "metadata": {
  "kernelspec": {
   "display_name": "Python 3",
   "language": "python",
   "name": "python3"
  },
  "language_info": {
   "codemirror_mode": {
    "name": "ipython",
    "version": 3
   },
   "file_extension": ".py",
   "mimetype": "text/x-python",
   "name": "python",
   "nbconvert_exporter": "python",
   "pygments_lexer": "ipython3",
   "version": "undefined.undefined.undefined"
  }
 },
 "nbformat": 4,
 "nbformat_minor": 2
}
